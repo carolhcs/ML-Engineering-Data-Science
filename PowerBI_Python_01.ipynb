{
  "nbformat": 4,
  "nbformat_minor": 0,
  "metadata": {
    "colab": {
      "provenance": [],
      "authorship_tag": "ABX9TyP5DKzNSSx7O4+Y0Ejvw7SQ",
      "include_colab_link": true
    },
    "kernelspec": {
      "name": "python3",
      "display_name": "Python 3"
    },
    "language_info": {
      "name": "python"
    }
  },
  "cells": [
    {
      "cell_type": "markdown",
      "metadata": {
        "id": "view-in-github",
        "colab_type": "text"
      },
      "source": [
        "<a href=\"https://colab.research.google.com/github/carolhcs/ML-Engineering-Data-Science/blob/main/PowerBI_Python_01.ipynb\" target=\"_parent\"><img src=\"https://colab.research.google.com/assets/colab-badge.svg\" alt=\"Open In Colab\"/></a>"
      ]
    },
    {
      "cell_type": "markdown",
      "source": [
        "# Desafio de Projeto criado durante o bootcamp de Python Data Analytics da DIO\n",
        "### por Hellen Caroline Salvato\n",
        "💻\n",
        "Os desafios originais foram feitos usando o Power BI da Microsoft, que é bem mais imples e amigavel. Porém como existem varias limitações relacionadas a ele, resolvi refazer meu desafio em python, como uma forma de me desafiar.\n"
      ],
      "metadata": {
        "id": "O8cUOkbAXrZ4"
      }
    },
    {
      "cell_type": "markdown",
      "source": [
        "Vamos utilizar as seguintes ferramentas:\n",
        "\n",
        "🐼\n",
        "**Pandas** para manipulação de dados.\n",
        "\n",
        "📊\n",
        "**Plotly** para visualizações interativas.\n",
        "\n",
        "💨\n",
        "**Dash** para criar o dashboard interativo."
      ],
      "metadata": {
        "id": "ZYSwgZmsXv18"
      }
    },
    {
      "cell_type": "markdown",
      "source": [
        "### 1. Criando Elementos da Primeira Página do Relatório\n",
        "**Carregando e Preparando os Dados**\n",
        "\n",
        "Primeiro, vamos carregar os dados de vendas e preparar a estrutura do nosso relatório."
      ],
      "metadata": {
        "id": "9aJh5eQ_YHwB"
      }
    },
    {
      "cell_type": "code",
      "source": [
        "import pandas as pd\n",
        "\n",
        "# Carregar os dados de vendas\n",
        "df = pd.read_csv('sales_data.csv')  # Substitua pelo seu arquivo de dados\n",
        "\n",
        "# Exemplo de visualização inicial dos dados\n",
        "print(df.head())\n"
      ],
      "metadata": {
        "id": "_LmbipMmYG3i"
      },
      "execution_count": null,
      "outputs": []
    },
    {
      "cell_type": "markdown",
      "source": [
        "### 2. Criando Gráficos da Primeira Página do Relatório\n",
        "**Gráfico de Vendas por Categoria**"
      ],
      "metadata": {
        "id": "BmgJNMtJYQxf"
      }
    },
    {
      "cell_type": "code",
      "execution_count": null,
      "metadata": {
        "id": "WD5i9H6WXiSV"
      },
      "outputs": [],
      "source": [
        "import plotly.express as px\n",
        "\n",
        "fig = px.bar(df, x='Category', y='Sales', title='Vendas por Categoria')\n",
        "fig.show()\n"
      ]
    },
    {
      "cell_type": "markdown",
      "source": [
        "### 3. Criando o Segmentador e Visuais Alternativos\n",
        "**Segmentador por Ano**"
      ],
      "metadata": {
        "id": "0wBasjAWYreU"
      }
    },
    {
      "cell_type": "code",
      "source": [
        "import dash\n",
        "import dash_core_components as dcc\n",
        "import dash_html_components as html\n",
        "from dash.dependencies import Input, Output\n",
        "\n",
        "app = dash.Dash(__name__)\n",
        "\n",
        "app.layout = html.Div([\n",
        "    html.H1('Relatório Gerencial de Vendas'),\n",
        "    dcc.Dropdown(\n",
        "        id='year-dropdown',\n",
        "        options=[{'label': year, 'value': year} for year in df['Year'].unique()],\n",
        "        value=df['Year'].unique()[0]\n",
        "    ),\n",
        "    dcc.Graph(id='sales-by-category')\n",
        "])\n",
        "\n",
        "@app.callback(\n",
        "    Output('sales-by-category', 'figure'),\n",
        "    [Input('year-dropdown', 'value')]\n",
        ")\n",
        "def update_graph(selected_year):\n",
        "    filtered_df = df[df['Year'] == selected_year]\n",
        "    fig = px.bar(filtered_df, x='Category', y='Sales', title=f'Vendas por Categoria em {selected_year}')\n",
        "    return fig\n"
      ],
      "metadata": {
        "id": "1kzV1t_TYvzh"
      },
      "execution_count": null,
      "outputs": []
    },
    {
      "cell_type": "markdown",
      "source": [
        "### 4. Criando os Botões do Relatório e Utilizando Indicadores para Gravar Estado do Relatório\n",
        "**Botões para Alternar Entre Gráficos**"
      ],
      "metadata": {
        "id": "p_yxMlFSZNYZ"
      }
    },
    {
      "cell_type": "code",
      "source": [
        "app.layout = html.Div([\n",
        "    html.H1('Relatório Gerencial de Vendas'),\n",
        "    dcc.Dropdown(\n",
        "        id='year-dropdown',\n",
        "        options=[{'label': year, 'value': year} for year in df['Year'].unique()],\n",
        "        value=df['Year'].unique()[0]\n",
        "    ),\n",
        "    dcc.Tabs(id='tabs', value='tab-1', children=[\n",
        "        dcc.Tab(label='Vendas por Categoria', value='tab-1'),\n",
        "        dcc.Tab(label='Vendas por Região', value='tab-2')\n",
        "    ]),\n",
        "    html.Div(id='tabs-content')\n",
        "])\n",
        "\n",
        "@app.callback(\n",
        "    Output('tabs-content', 'children'),\n",
        "    [Input('tabs', 'value'), Input('year-dropdown', 'value')]\n",
        ")\n",
        "def render_content(tab, selected_year):\n",
        "    filtered_df = df[df['Year'] == selected_year]\n",
        "    if tab == 'tab-1':\n",
        "        fig = px.bar(filtered_df, x='Category', y='Sales', title=f'Vendas por Categoria em {selected_year}')\n",
        "    elif tab == 'tab-2':\n",
        "        fig = px.bar(filtered_df, x='Region', y='Sales', title=f'Vendas por Região em {selected_year}')\n",
        "    return dcc.Graph(figure=fig)\n"
      ],
      "metadata": {
        "id": "Ecsbyq-uZS-n"
      },
      "execution_count": null,
      "outputs": []
    },
    {
      "cell_type": "markdown",
      "source": [
        "### 5. Criando a Interação por Botões com a Segunda Página do Relatório\n",
        "**Navegação entre Páginas**"
      ],
      "metadata": {
        "id": "RpeQRsrQZV10"
      }
    },
    {
      "cell_type": "code",
      "source": [
        "app.layout = html.Div([\n",
        "    dcc.Location(id='url', refresh=False),\n",
        "    html.Div(id='page-content')\n",
        "])\n",
        "\n",
        "index_page = html.Div([\n",
        "    html.H1('Relatório Gerencial de Vendas'),\n",
        "    dcc.Link('Ir para Primeira Página', href='/page-1'),\n",
        "    html.Br(),\n",
        "    dcc.Link('Ir para Segunda Página', href='/page-2')\n",
        "])\n",
        "\n",
        "page_1_layout = html.Div([\n",
        "    html.H1('Primeira Página'),\n",
        "    dcc.Dropdown(\n",
        "        id='year-dropdown',\n",
        "        options=[{'label': year, 'value': year} for year in df['Year'].unique()],\n",
        "        value=df['Year'].unique()[0]\n",
        "    ),\n",
        "    dcc.Graph(id='sales-by-category'),\n",
        "    html.Br(),\n",
        "    dcc.Link('Voltar para Home', href='/')\n",
        "])\n",
        "\n",
        "page_2_layout = html.Div([\n",
        "    html.H1('Segunda Página'),\n",
        "    dcc.Graph(id='sales-by-region'),\n",
        "    html.Br(),\n",
        "    dcc.Link('Voltar para Home', href='/')\n",
        "])\n",
        "\n",
        "@app.callback(\n",
        "    Output('page-content', 'children'),\n",
        "    [Input('url', 'pathname')]\n",
        ")\n",
        "def display_page(pathname):\n",
        "    if pathname == '/page-1':\n",
        "        return page_1_layout\n",
        "    elif pathname == '/page-2':\n",
        "        return page_2_layout\n",
        "    else:\n",
        "        return index_page\n",
        "\n",
        "@app.callback(\n",
        "    Output('sales-by-category', 'figure'),\n",
        "    [Input('year-dropdown', 'value')]\n",
        ")\n",
        "def update_graph(selected_year):\n",
        "    filtered_df = df[df['Year'] == selected_year]\n",
        "    fig = px.bar(filtered_df, x='Category', y='Sales', title=f'Vendas por Categoria em {selected_year}')\n",
        "    return fig\n",
        "\n",
        "if __name__ == '__main__':\n",
        "    app.run_server(debug=True)\n"
      ],
      "metadata": {
        "id": "Xfi2ojI-ZaHW"
      },
      "execution_count": null,
      "outputs": []
    },
    {
      "cell_type": "markdown",
      "source": [
        "### 6. Publicando Relatório no Power BI Service"
      ],
      "metadata": {
        "id": "G81ZWJdzZen4"
      }
    },
    {
      "cell_type": "code",
      "source": [
        "if __name__ == '__main__':\n",
        "    app.run_server(debug=False, host='0.0.0.0', port=80)  # Configuração para rodar em um servidor\n"
      ],
      "metadata": {
        "id": "6tvOOwFwZlkd"
      },
      "execution_count": null,
      "outputs": []
    }
  ]
}