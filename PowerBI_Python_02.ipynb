{
  "nbformat": 4,
  "nbformat_minor": 0,
  "metadata": {
    "colab": {
      "provenance": [],
      "authorship_tag": "ABX9TyP0b9XoIYA/wnW3dPzEXkPF",
      "include_colab_link": true
    },
    "kernelspec": {
      "name": "python3",
      "display_name": "Python 3"
    },
    "language_info": {
      "name": "python"
    }
  },
  "cells": [
    {
      "cell_type": "markdown",
      "metadata": {
        "id": "view-in-github",
        "colab_type": "text"
      },
      "source": [
        "<a href=\"https://colab.research.google.com/github/carolhcs/ML-Engineering-Data-Science/blob/main/PowerBI_Python_02.ipynb\" target=\"_parent\"><img src=\"https://colab.research.google.com/assets/colab-badge.svg\" alt=\"Open In Colab\"/></a>"
      ]
    },
    {
      "cell_type": "markdown",
      "source": [
        "# Desafio de Projeto criado durante o bootcamp de Python Data Analytics da DIO\n",
        "### por Hellen Caroline Salvato\n",
        "💻\n",
        "Os desafios originais foram feitos usando o Power BI da Microsoft, que é bem mais imples e amigavel. Porém como existem varias limitações relacionadas a ele, resolvi refazer meu desafio em python, como uma forma de me desafiar.\n"
      ],
      "metadata": {
        "id": "r92U8atKkgx_"
      }
    },
    {
      "cell_type": "markdown",
      "source": [
        "**Conectando ao Banco de Dados MySQL**\n",
        "\n",
        "Instale as bibliotecas necessárias:"
      ],
      "metadata": {
        "id": "xC9NHHV9kgie"
      }
    },
    {
      "cell_type": "code",
      "source": [
        "pip install pandas sqlalchemy dash plotly\n"
      ],
      "metadata": {
        "id": "gRFBtif7kfsH"
      },
      "execution_count": null,
      "outputs": []
    },
    {
      "cell_type": "code",
      "source": [
        "import pandas as pd\n",
        "from sqlalchemy import create_engine\n",
        "\n",
        "# Configurar a string de conexão ao MySQL no Azure\n",
        "db_user = 'your-username@your-server'\n",
        "db_password = 'your-password'\n",
        "db_host = 'your-server.mysql.database.azure.com'\n",
        "db_name = 'your-database-name'\n",
        "\n",
        "connection_string = f'mysql+pymysql://{db_user}:{db_password}@{db_host}/{db_name}'\n",
        "engine = create_engine(connection_string)\n",
        "\n",
        "# Ler dados do banco de dados\n",
        "query = \"SELECT * FROM your_table\"\n",
        "df = pd.read_sql(query, engine)\n"
      ],
      "metadata": {
        "id": "APxgHZa_knEY"
      },
      "execution_count": null,
      "outputs": []
    },
    {
      "cell_type": "markdown",
      "source": [
        "**Criando o Dashboard com Dash**"
      ],
      "metadata": {
        "id": "j54czfeekkaY"
      }
    },
    {
      "cell_type": "code",
      "execution_count": null,
      "metadata": {
        "id": "ogd26Herf1hX"
      },
      "outputs": [],
      "source": [
        "import dash\n",
        "import dash_core_components as dcc\n",
        "import dash_html_components as html\n",
        "from dash.dependencies import Input, Output\n",
        "import plotly.express as px\n",
        "\n",
        "app = dash.Dash(__name__)\n",
        "\n",
        "# Layout do dashboard\n",
        "app.layout = html.Div([\n",
        "    html.H1(\"Dashboard Corporativo\"),\n",
        "    dcc.Dropdown(\n",
        "        id='filter-dropdown',\n",
        "        options=[{'label': item, 'value': item} for item in df['your_column'].unique()],\n",
        "        value=df['your_column'].unique()[0]\n",
        "    ),\n",
        "    dcc.Graph(id='example-graph')\n",
        "])\n",
        "\n",
        "# Callback para atualizar o gráfico com base no filtro selecionado\n",
        "@app.callback(\n",
        "    Output('example-graph', 'figure'),\n",
        "    [Input('filter-dropdown', 'value')]\n",
        ")\n",
        "def update_graph(selected_value):\n",
        "    filtered_df = df[df['your_column'] == selected_value]\n",
        "    fig = px.bar(filtered_df, x='x_column', y='y_column', title='Seu Gráfico')\n",
        "    return fig\n",
        "\n",
        "if __name__ == '__main__':\n",
        "    app.run_server(debug=True)\n"
      ]
    }
  ]
}