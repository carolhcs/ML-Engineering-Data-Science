{
  "nbformat": 4,
  "nbformat_minor": 0,
  "metadata": {
    "colab": {
      "provenance": [],
      "authorship_tag": "ABX9TyMnVgxqFMapgyRNd2/w2+oZ",
      "include_colab_link": true
    },
    "kernelspec": {
      "name": "python3",
      "display_name": "Python 3"
    },
    "language_info": {
      "name": "python"
    }
  },
  "cells": [
    {
      "cell_type": "markdown",
      "metadata": {
        "id": "view-in-github",
        "colab_type": "text"
      },
      "source": [
        "<a href=\"https://colab.research.google.com/github/carolhcs/ML-Engineering-Data-Science/blob/main/Basic_GA.ipynb\" target=\"_parent\"><img src=\"https://colab.research.google.com/assets/colab-badge.svg\" alt=\"Open In Colab\"/></a>"
      ]
    },
    {
      "cell_type": "markdown",
      "source": [
        "## Algoritmo Genético Simples em Python\n",
        "**🧬 Introdução aos Algoritmos Genéticos**\n",
        "\n",
        "Um algoritmo genético (AG) é uma técnica de busca heurística inspirada no processo de evolução natural. Ele é usado para encontrar soluções aproximadas para problemas de otimização e pesquisa."
      ],
      "metadata": {
        "id": "aSh35N6JFael"
      }
    },
    {
      "cell_type": "markdown",
      "source": [
        "**🛠️ Instalação de Bibliotecas Necessárias**"
      ],
      "metadata": {
        "id": "X2z1QwfkFr5C"
      }
    },
    {
      "cell_type": "code",
      "execution_count": 1,
      "metadata": {
        "colab": {
          "base_uri": "https://localhost:8080/"
        },
        "id": "VwL1roczFObV",
        "outputId": "a73bbd25-fc20-4462-a0de-2db42165c332"
      },
      "outputs": [
        {
          "output_type": "stream",
          "name": "stdout",
          "text": [
            "Requirement already satisfied: numpy in /usr/local/lib/python3.10/dist-packages (1.25.2)\n"
          ]
        }
      ],
      "source": [
        "# 📦 Instalando bibliotecas necessárias\n",
        "!pip install numpy\n"
      ]
    },
    {
      "cell_type": "markdown",
      "source": [
        "**🧩 Importação de Bibliotecas**"
      ],
      "metadata": {
        "id": "XLz17o9MFvb4"
      }
    },
    {
      "cell_type": "code",
      "source": [
        "# 📚 Importando bibliotecas necessárias\n",
        "import numpy as np\n",
        "import random\n"
      ],
      "metadata": {
        "id": "kn_fYdjaFykp"
      },
      "execution_count": 2,
      "outputs": []
    },
    {
      "cell_type": "markdown",
      "source": [
        "**🧬 Funções de Auxílio**"
      ],
      "metadata": {
        "id": "tGvZhMCBF1C6"
      }
    },
    {
      "cell_type": "code",
      "source": [
        "# 🛠️ Funções de auxílio\n",
        "\n",
        "# Função de fitness para avaliar a adequação de uma solução\n",
        "def fitness_function(individual):\n",
        "    return sum(individual)  # Exemplo simples: soma dos elementos do indivíduo\n",
        "\n",
        "# Função para criar um indivíduo\n",
        "def create_individual(length):\n",
        "    return [random.randint(0, 1) for _ in range(length)]\n",
        "\n",
        "# Função para criar uma população inicial\n",
        "def create_population(size, length):\n",
        "    return [create_individual(length) for _ in range(size)]\n"
      ],
      "metadata": {
        "id": "FzI4fRf-F5Ow"
      },
      "execution_count": 3,
      "outputs": []
    },
    {
      "cell_type": "markdown",
      "source": [
        "**👫 Seleção Natural**"
      ],
      "metadata": {
        "id": "rDRoIZt9F7Q1"
      }
    },
    {
      "cell_type": "code",
      "source": [
        "# 👫 Seleção natural\n",
        "\n",
        "# Função para selecionar indivíduos com base em sua aptidão (fitness)\n",
        "def select(population, fitnesses, num_to_select):\n",
        "    fitnesses = np.array(fitnesses)\n",
        "    probabilities = fitnesses / fitnesses.sum()\n",
        "    selected_indices = np.random.choice(len(population), size=num_to_select, p=probabilities)\n",
        "    return [population[i] for i in selected_indices]\n"
      ],
      "metadata": {
        "id": "nLBQudGQF_15"
      },
      "execution_count": 8,
      "outputs": []
    },
    {
      "cell_type": "markdown",
      "source": [
        "**🔄 Crossover e Mutação**"
      ],
      "metadata": {
        "id": "oCwJ2USRGCeM"
      }
    },
    {
      "cell_type": "code",
      "source": [
        "# 🔄 Crossover e mutação\n",
        "\n",
        "# Função de crossover (cruzamento) de dois indivíduos\n",
        "def crossover(parent1, parent2):\n",
        "    crossover_point = random.randint(1, len(parent1) - 1)\n",
        "    child1 = parent1[:crossover_point] + parent2[crossover_point:]\n",
        "    child2 = parent2[:crossover_point] + parent1[crossover_point:]\n",
        "    return child1, child2\n",
        "\n",
        "# Função de mutação de um indivíduo\n",
        "def mutate(individual, mutation_rate=0.01):\n",
        "    for i in range(len(individual)):\n",
        "        if random.random() < mutation_rate:\n",
        "            individual[i] = 1 - individual[i]  # Inverte o bit\n",
        "    return individual\n"
      ],
      "metadata": {
        "id": "0NTuW4QiGFJq"
      },
      "execution_count": 5,
      "outputs": []
    },
    {
      "cell_type": "markdown",
      "source": [
        "**🌱 Evolução da População**"
      ],
      "metadata": {
        "id": "iK8TVhMaGKVG"
      }
    },
    {
      "cell_type": "code",
      "source": [
        "# 🌱 Evolução da população\n",
        "\n",
        "# Função principal para evoluir a população\n",
        "def genetic_algorithm(pop_size, ind_length, generations, mutation_rate):\n",
        "    population = create_population(pop_size, ind_length)\n",
        "\n",
        "    for generation in range(generations):\n",
        "        # Calculando a aptidão (fitness) de cada indivíduo\n",
        "        fitnesses = [fitness_function(individual) for individual in population]\n",
        "\n",
        "        # Seleção natural\n",
        "        selected = select(population, fitnesses, pop_size // 2)\n",
        "\n",
        "        # Criando a próxima geração\n",
        "        next_generation = []\n",
        "        while len(next_generation) < pop_size:\n",
        "            parent1, parent2 = random.sample(selected, 2)\n",
        "            child1, child2 = crossover(parent1, parent2)\n",
        "            next_generation.append(mutate(child1, mutation_rate))\n",
        "            if len(next_generation) < pop_size:\n",
        "                next_generation.append(mutate(child2, mutation_rate))\n",
        "\n",
        "        population = next_generation\n",
        "\n",
        "        # Melhor indivíduo da geração atual\n",
        "        best_individual = max(population, key=fitness_function)\n",
        "        print(f'Geração {generation + 1}: Melhor Fitness = {fitness_function(best_individual)}')\n",
        "\n",
        "    return best_individual\n"
      ],
      "metadata": {
        "id": "oirOiPFMGLkJ"
      },
      "execution_count": 6,
      "outputs": []
    },
    {
      "cell_type": "markdown",
      "source": [
        "**🚀 Executando o Algoritmo**"
      ],
      "metadata": {
        "id": "yfX0xdtlGOrT"
      }
    },
    {
      "cell_type": "code",
      "source": [
        "# 🚀 Executando o algoritmo genético\n",
        "\n",
        "pop_size = 100  # Tamanho da população\n",
        "ind_length = 10  # Tamanho de cada indivíduo (número de genes)\n",
        "generations = 50  # Número de gerações\n",
        "mutation_rate = 0.01  # Taxa de mutação\n",
        "\n",
        "best_solution = genetic_algorithm(pop_size, ind_length, generations, mutation_rate)\n",
        "print('Melhor solução encontrada:', best_solution)\n"
      ],
      "metadata": {
        "colab": {
          "base_uri": "https://localhost:8080/"
        },
        "id": "q2-smit6GOK_",
        "outputId": "16191bed-2920-4c55-cd75-84916c2209d5"
      },
      "execution_count": 10,
      "outputs": [
        {
          "output_type": "stream",
          "name": "stdout",
          "text": [
            "Geração 1: Melhor Fitness = 8\n",
            "Geração 2: Melhor Fitness = 8\n",
            "Geração 3: Melhor Fitness = 9\n",
            "Geração 4: Melhor Fitness = 9\n",
            "Geração 5: Melhor Fitness = 10\n",
            "Geração 6: Melhor Fitness = 9\n",
            "Geração 7: Melhor Fitness = 10\n",
            "Geração 8: Melhor Fitness = 10\n",
            "Geração 9: Melhor Fitness = 10\n",
            "Geração 10: Melhor Fitness = 10\n",
            "Geração 11: Melhor Fitness = 10\n",
            "Geração 12: Melhor Fitness = 10\n",
            "Geração 13: Melhor Fitness = 10\n",
            "Geração 14: Melhor Fitness = 10\n",
            "Geração 15: Melhor Fitness = 10\n",
            "Geração 16: Melhor Fitness = 10\n",
            "Geração 17: Melhor Fitness = 10\n",
            "Geração 18: Melhor Fitness = 10\n",
            "Geração 19: Melhor Fitness = 10\n",
            "Geração 20: Melhor Fitness = 10\n",
            "Geração 21: Melhor Fitness = 10\n",
            "Geração 22: Melhor Fitness = 10\n",
            "Geração 23: Melhor Fitness = 10\n",
            "Geração 24: Melhor Fitness = 10\n",
            "Geração 25: Melhor Fitness = 10\n",
            "Geração 26: Melhor Fitness = 10\n",
            "Geração 27: Melhor Fitness = 10\n",
            "Geração 28: Melhor Fitness = 10\n",
            "Geração 29: Melhor Fitness = 10\n",
            "Geração 30: Melhor Fitness = 10\n",
            "Geração 31: Melhor Fitness = 10\n",
            "Geração 32: Melhor Fitness = 10\n",
            "Geração 33: Melhor Fitness = 10\n",
            "Geração 34: Melhor Fitness = 10\n",
            "Geração 35: Melhor Fitness = 10\n",
            "Geração 36: Melhor Fitness = 10\n",
            "Geração 37: Melhor Fitness = 10\n",
            "Geração 38: Melhor Fitness = 10\n",
            "Geração 39: Melhor Fitness = 10\n",
            "Geração 40: Melhor Fitness = 10\n",
            "Geração 41: Melhor Fitness = 10\n",
            "Geração 42: Melhor Fitness = 10\n",
            "Geração 43: Melhor Fitness = 10\n",
            "Geração 44: Melhor Fitness = 10\n",
            "Geração 45: Melhor Fitness = 10\n",
            "Geração 46: Melhor Fitness = 10\n",
            "Geração 47: Melhor Fitness = 10\n",
            "Geração 48: Melhor Fitness = 10\n",
            "Geração 49: Melhor Fitness = 10\n",
            "Geração 50: Melhor Fitness = 10\n",
            "Melhor solução encontrada: [1, 1, 1, 1, 1, 1, 1, 1, 1, 1]\n"
          ]
        }
      ]
    },
    {
      "cell_type": "markdown",
      "source": [
        "**📊 Conclusão**\n",
        "\n",
        "Este código implementa um algoritmo genético simples que pode ser adaptado para diversos tipos de problemas de otimização. Modificando a função de fitness e ajustando os parâmetros, você pode aplicar este algoritmo a problemas específicos em diferentes áreas."
      ],
      "metadata": {
        "id": "SX-ovHC0GW7p"
      }
    }
  ]
}