{
  "nbformat": 4,
  "nbformat_minor": 0,
  "metadata": {
    "colab": {
      "provenance": [],
      "authorship_tag": "ABX9TyNK5DIgTHroOerwhG6zj9TX",
      "include_colab_link": true
    },
    "kernelspec": {
      "name": "python3",
      "display_name": "Python 3"
    },
    "language_info": {
      "name": "python"
    }
  },
  "cells": [
    {
      "cell_type": "markdown",
      "metadata": {
        "id": "view-in-github",
        "colab_type": "text"
      },
      "source": [
        "<a href=\"https://colab.research.google.com/github/carolhcs/ML-Engineering-Data-Science/blob/main/PowerBI_Python.ipynb\" target=\"_parent\"><img src=\"https://colab.research.google.com/assets/colab-badge.svg\" alt=\"Open In Colab\"/></a>"
      ]
    },
    {
      "cell_type": "markdown",
      "source": [
        "# Desafio de Projeto criado durante o bootcamp de Python Data Analytics da DIO\n",
        "### por Hellen Caroline Salvato\n",
        "💻\n",
        "Os desafios originais foram feitos usando o Power BI da Microsoft, que é bem mais imples e amigavel. Porém como existem varias limitações relacionadas a ele, resolvi refazer meu desafio em python, como uma forma de me desafiar.\n"
      ],
      "metadata": {
        "id": "kVDLhz21DVMv"
      }
    },
    {
      "cell_type": "markdown",
      "source": [
        "## Conexão com Fontes de Dados\n",
        "**🐼Pandas**: Uma biblioteca essencial para manipulação de dados, que pode se conectar a diversas fontes de dados, como arquivos CSV, Excel, SQL, e APIs."
      ],
      "metadata": {
        "id": "wI2tIRJ8DEJC"
      }
    },
    {
      "cell_type": "code",
      "execution_count": null,
      "metadata": {
        "id": "L0q3lrqNC-AL"
      },
      "outputs": [],
      "source": [
        "import pandas as pd\n",
        "\n",
        "# Ler dados de um arquivo CSV\n",
        "df = pd.read_csv('data.csv')\n",
        "\n",
        "# Ler dados de um banco de dados SQL\n",
        "import sqlalchemy\n",
        "engine = sqlalchemy.create_engine('sqlite:///mydatabase.db')\n",
        "df = pd.read_sql('SELECT * FROM my_table', engine)\n"
      ]
    },
    {
      "cell_type": "markdown",
      "source": [
        "## Transformação e Limpeza de Dados\n",
        "🐼\n",
        "**Pandas**: Ferramentas robustas para limpeza e transformação de dados"
      ],
      "metadata": {
        "id": "xVTB01W9DO6b"
      }
    },
    {
      "cell_type": "code",
      "source": [
        "# Remover duplicatas\n",
        "df = df.drop_duplicates()\n",
        "\n",
        "# Alterar tipos de dados\n",
        "df['date'] = pd.to_datetime(df['date'])\n",
        "\n",
        "# Mesclar tabelas\n",
        "df = df.merge(other_df, on='key')\n"
      ],
      "metadata": {
        "id": "bHScsCcODOnq"
      },
      "execution_count": null,
      "outputs": []
    },
    {
      "cell_type": "markdown",
      "source": [
        "## Visualização de Dados\n",
        "📊\n",
        "**Matplotlib**: Biblioteca básica para criação de gráficos."
      ],
      "metadata": {
        "id": "wM1-O2q3POCA"
      }
    },
    {
      "cell_type": "code",
      "source": [
        "import matplotlib.pyplot as plt\n",
        "\n",
        "df.plot(kind='bar', x='category', y='values')\n",
        "plt.show()\n"
      ],
      "metadata": {
        "id": "VlAxgxmyPRrP"
      },
      "execution_count": null,
      "outputs": []
    },
    {
      "cell_type": "markdown",
      "source": [
        "📊**Seaborn**: Biblioteca baseada no Matplotlib, com gráficos estatísticos mais sofisticados."
      ],
      "metadata": {
        "id": "LbR9xc1VPVTz"
      }
    },
    {
      "cell_type": "code",
      "source": [
        "import seaborn as sns\n",
        "\n",
        "sns.barplot(x='category', y='values', data=df)\n",
        "plt.show()\n"
      ],
      "metadata": {
        "id": "R6pv8kaCPZl8"
      },
      "execution_count": null,
      "outputs": []
    },
    {
      "cell_type": "markdown",
      "source": [
        "**📊Plotly**: Biblioteca para criação de gráficos interativos."
      ],
      "metadata": {
        "id": "hlVQOAXCPbpL"
      }
    },
    {
      "cell_type": "code",
      "source": [
        "import plotly.express as px\n",
        "\n",
        "fig = px.bar(df, x='category', y='values')\n",
        "fig.show()\n"
      ],
      "metadata": {
        "id": "CZoUEBdxPgFl"
      },
      "execution_count": null,
      "outputs": []
    },
    {
      "cell_type": "markdown",
      "source": [
        "## Dashboards Interativos\n",
        "📈\n",
        "**Dash**: Framework baseado em Flask e Plotly para criação de dashboards web interativos."
      ],
      "metadata": {
        "id": "Bq5k6DDoPitN"
      }
    },
    {
      "cell_type": "code",
      "source": [
        "import dash\n",
        "import dash_core_components as dcc\n",
        "import dash_html_components as html\n",
        "from dash.dependencies import Input, Output\n",
        "import plotly.express as px\n",
        "\n",
        "app = dash.Dash(__name__)\n",
        "\n",
        "app.layout = html.Div([\n",
        "    dcc.Graph(id='example-graph'),\n",
        "    dcc.Dropdown(id='dropdown', options=[\n",
        "        {'label': 'Option 1', 'value': '1'},\n",
        "        {'label': 'Option 2', 'value': '2'},\n",
        "    ], value='1')\n",
        "])\n",
        "\n",
        "@app.callback(\n",
        "    Output('example-graph', 'figure'),\n",
        "    [Input('dropdown', 'value')]\n",
        ")\n",
        "def update_graph(selected_value):\n",
        "    filtered_df = df[df['category'] == selected_value]\n",
        "    fig = px.bar(filtered_df, x='category', y='values')\n",
        "    return fig\n",
        "\n",
        "if __name__ == '__main__':\n",
        "    app.run_server(debug=True)\n"
      ],
      "metadata": {
        "id": "0KgHBiuWPhtz"
      },
      "execution_count": null,
      "outputs": []
    },
    {
      "cell_type": "markdown",
      "source": [
        "## Publicação e Compartilhamento\n",
        "🌶\n",
        "**Flask/Django**: Frameworks para desenvolver aplicações web, que podem ser usadas para hospedar e compartilhar dashboards e relatórios.\n",
        "🖱\n",
        "**Streamlit**: Biblioteca para criação de aplicativos web interativos de forma rápida."
      ],
      "metadata": {
        "id": "bJ1MsI9nQcN7"
      }
    },
    {
      "cell_type": "code",
      "source": [
        "import streamlit as st\n",
        "\n",
        "st.title('Dashboard de Vendas')\n",
        "st.bar_chart(df.set_index('category')['values'])\n"
      ],
      "metadata": {
        "id": "cNggjWR7QeWo"
      },
      "execution_count": null,
      "outputs": []
    },
    {
      "cell_type": "markdown",
      "source": [
        "## Agendamento e Automação\n",
        "\n",
        "**APScheduler**: Biblioteca para agendar tarefas"
      ],
      "metadata": {
        "id": "NQf08F2jQiU_"
      }
    },
    {
      "cell_type": "code",
      "source": [
        "from apscheduler.schedulers.blocking import BlockingScheduler\n",
        "\n",
        "def update_data():\n",
        "    # Código para atualizar os dados\n",
        "    pass\n",
        "\n",
        "scheduler = BlockingScheduler()\n",
        "scheduler.add_job(update_data, 'interval', hours=1)\n",
        "scheduler.start()\n"
      ],
      "metadata": {
        "id": "JHGl99cJQh3y"
      },
      "execution_count": null,
      "outputs": []
    },
    {
      "cell_type": "markdown",
      "source": [
        "## Modelagem e Análises Avançadas\n",
        "\n",
        "**Scikit-learn**: Biblioteca para machine learning."
      ],
      "metadata": {
        "id": "8FOiF4PgQrgI"
      }
    },
    {
      "cell_type": "code",
      "source": [
        "from sklearn.linear_model import LinearRegression\n",
        "\n",
        "model = LinearRegression()\n",
        "model.fit(X_train, y_train)\n",
        "predictions = model.predict(X_test)\n"
      ],
      "metadata": {
        "id": "eyum3RipQsvU"
      },
      "execution_count": null,
      "outputs": []
    },
    {
      "cell_type": "markdown",
      "source": [
        "## Exemplo Integrado\n",
        "\n",
        "Abaixo está um exemplo integrado que usa Dash para criar um dashboard interativo:"
      ],
      "metadata": {
        "id": "2IC7vr5WQvP-"
      }
    },
    {
      "cell_type": "code",
      "source": [
        "import dash\n",
        "import dash_core_components as dcc\n",
        "import dash_html_components as html\n",
        "from dash.dependencies import Input, Output\n",
        "import pandas as pd\n",
        "import plotly.express as px\n",
        "\n",
        "# Ler dados\n",
        "df = pd.read_csv('data.csv')\n",
        "\n",
        "app = dash.Dash(__name__)\n",
        "\n",
        "app.layout = html.Div([\n",
        "    html.H1('Dashboard de Vendas'),\n",
        "    dcc.Dropdown(\n",
        "        id='category-dropdown',\n",
        "        options=[{'label': category, 'value': category} for category in df['category'].unique()],\n",
        "        value=df['category'].unique()[0]\n",
        "    ),\n",
        "    dcc.Graph(id='sales-graph')\n",
        "])\n",
        "\n",
        "@app.callback(\n",
        "    Output('sales-graph', 'figure'),\n",
        "    [Input('category-dropdown', 'value')]\n",
        ")\n",
        "def update_graph(selected_category):\n",
        "    filtered_df = df[df['category'] == selected_category]\n",
        "    fig = px.bar(filtered_df, x='subcategory', y='sales')\n",
        "    return fig\n",
        "\n",
        "if __name__ == '__main__':\n",
        "    app.run_server(debug=True)\n"
      ],
      "metadata": {
        "id": "srhtQWtqQ4Do"
      },
      "execution_count": null,
      "outputs": []
    }
  ]
}