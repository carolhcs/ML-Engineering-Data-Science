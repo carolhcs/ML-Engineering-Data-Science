{
  "nbformat": 4,
  "nbformat_minor": 0,
  "metadata": {
    "colab": {
      "provenance": [],
      "authorship_tag": "ABX9TyMYO0aDG8pErj+WuPNp5z4X",
      "include_colab_link": true
    },
    "kernelspec": {
      "name": "python3",
      "display_name": "Python 3"
    },
    "language_info": {
      "name": "python"
    }
  },
  "cells": [
    {
      "cell_type": "markdown",
      "metadata": {
        "id": "view-in-github",
        "colab_type": "text"
      },
      "source": [
        "<a href=\"https://colab.research.google.com/github/carolhcs/ML-Engineering-Data-Science/blob/main/Rede_Neural_do_Zero_DIO.ipynb\" target=\"_parent\"><img src=\"https://colab.research.google.com/assets/colab-badge.svg\" alt=\"Open In Colab\"/></a>"
      ]
    },
    {
      "cell_type": "markdown",
      "source": [
        "### Explicação do Código\n",
        "\n",
        "1. **`import numpy as np`**:\n",
        "   - **Função**: Importa a biblioteca `numpy`, que é usada para operações numéricas em arrays multidimensionais.\n",
        "   - **Uso**: `numpy` é fundamental para manipulação e processamento de dados numéricos.\n",
        "\n",
        "2. **`import torch`**:\n",
        "   - **Função**: Importa a biblioteca `torch`, que é a base do PyTorch, uma biblioteca para deep learning.\n",
        "   - **Uso**: `torch` fornece tensores e funções para computação eficiente e construção de redes neurais.\n",
        "\n",
        "3. **`import torch.nn.functional as F`**:\n",
        "   - **Função**: Importa o módulo `functional` do submódulo `nn` de PyTorch, que contém funções úteis para operações com redes neurais.\n",
        "   - **Uso**: Funções de ativação, funções de perda e outras operações úteis em modelos de deep learning.\n",
        "\n",
        "4. **`import torchvision`**:\n",
        "   - **Função**: Importa a biblioteca `torchvision`, que fornece ferramentas para carregar e transformar conjuntos de dados de visão computacional.\n",
        "   - **Uso**: Manipulação de dados de imagem, especialmente para uso em redes neurais convolucionais.\n",
        "\n",
        "5. **`import matplotlib.pyplot as plt`**:\n",
        "   - **Função**: Importa o módulo `pyplot` da biblioteca `matplotlib`, usado para visualização de dados.\n",
        "   - **Uso**: Criação de gráficos e visualizações, útil para análise de dados e resultados de modelos.\n",
        "\n",
        "6. **`from time import time`**:\n",
        "   - **Função**: Importa a função `time` do módulo `time`.\n",
        "   - **Uso**: Medir o tempo de execução de trechos de código.\n",
        "\n",
        "7. **`from torchvision import datasets, transforms`**:\n",
        "   - **Função**: Importa os submódulos `datasets` e `transforms` da biblioteca `torchvision`.\n",
        "   - **Uso**: `datasets` fornece acesso a conjuntos de dados populares (como MNIST, CIFAR-10). `transforms` fornece operações para transformar e pré-processar dados de imagem.\n",
        "\n",
        "8. **`from torch import nn, optim`**:\n",
        "   - **Função**: Importa os módulos `nn` e `optim` de PyTorch.\n",
        "   - **Uso**: `nn` é usado para definir camadas e arquiteturas de redes neurais. `optim` é usado para definir otimizadores, que ajustam os parâmetros do modelo durante o treinamento.\n",
        "\n",
        "Este conjunto de importações é comum em scripts de treinamento de modelos de deep learning, especialmente aqueles focados em visão computacional utilizando PyTorch."
      ],
      "metadata": {
        "id": "OOaHm5d_vXv4"
      }
    },
    {
      "cell_type": "code",
      "execution_count": 10,
      "metadata": {
        "id": "UIhsH0DIupNQ"
      },
      "outputs": [],
      "source": [
        "import numpy as np\n",
        "import torch\n",
        "import torch.nn.functional as F\n",
        "import torchvision\n",
        "import matplotlib.pyplot as plt\n",
        "from time import time\n",
        "from torchvision import datasets, transforms\n",
        "from torch import nn, optim\n"
      ]
    },
    {
      "cell_type": "markdown",
      "source": [
        "Este código é um exemplo clássico de preparação de dados para treinamento e validação de um modelo de aprendizado de máquina usando o conjunto de dados MNIST, que é amplamente utilizado para a tarefa de classificação de dígitos escritos à mão."
      ],
      "metadata": {
        "id": "Q1GHDcaqvg-s"
      }
    },
    {
      "cell_type": "code",
      "source": [
        "import torch\n",
        "from torchvision import datasets, transforms\n",
        "\n",
        "# Definindo a conversão de imagem para tensor\n",
        "transform = transforms.ToTensor()\n",
        "\n",
        "# Carrega a parte de treino do dataset\n",
        "trainset = datasets.MNIST('./MNIST_data/', download=True, train=True, transform=transform)\n",
        "trainloader = torch.utils.data.DataLoader(trainset, batch_size=64, shuffle=True)\n",
        "\n",
        "# Carrega a parte de validação do dataset\n",
        "valset = datasets.MNIST('./MNIST_data/', download=True, train=False, transform=transform)\n",
        "valloader = torch.utils.data.DataLoader(valset, batch_size=64, shuffle=True)\n"
      ],
      "metadata": {
        "id": "JEsI3QE8vMtp"
      },
      "execution_count": 11,
      "outputs": []
    },
    {
      "cell_type": "markdown",
      "source": [
        "- Cria um iterador para percorrer os dados de treinamento.\n",
        "- Obtém o próximo lote de imagens e suas respectivas etiquetas.\n",
        "- Visualiza a primeira imagem do lote em escala de cinza.\n",
        "\n",
        "Este processo é útil para inspecionar visualmente os dados e garantir que as transformações e carregamentos foram realizados corretamente."
      ],
      "metadata": {
        "id": "0ek6G4BhwRKl"
      }
    },
    {
      "cell_type": "code",
      "source": [
        "# Use the correct data loader iterator\n",
        "dataiter = iter(trainloader)\n",
        "\n",
        "# Extract the images and labels\n",
        "imagens, etiquetas = next(dataiter)\n",
        "\n",
        "# Display the first image\n",
        "plt.imshow(imagens[0].numpy().squeeze(), cmap='gray_r')\n",
        "plt.show()\n"
      ],
      "metadata": {
        "colab": {
          "base_uri": "https://localhost:8080/",
          "height": 430
        },
        "id": "mGQNLkFFvpxn",
        "outputId": "cc5636d8-72ce-49d7-85b0-0bad153feb02"
      },
      "execution_count": 24,
      "outputs": [
        {
          "output_type": "display_data",
          "data": {
            "text/plain": [
              "<Figure size 640x480 with 1 Axes>"
            ],
            "image/png": "[encoded data removed]"
          },
          "metadata": {}
        }
      ]
    },
    {
      "cell_type": "code",
      "source": [
        "print(imagens[0].shape)\n",
        "print(etiquetas[0].shape)"
      ],
      "metadata": {
        "colab": {
          "base_uri": "https://localhost:8080/"
        },
        "id": "DTbxp26GwSbf",
        "outputId": "de6fbad3-bbe6-4dca-cc8b-a6e28de8e0d9"
      },
      "execution_count": 25,
      "outputs": [
        {
          "output_type": "stream",
          "name": "stdout",
          "text": [
            "torch.Size([1, 28, 28])\n",
            "torch.Size([])\n"
          ]
        }
      ]
    },
    {
      "cell_type": "markdown",
      "source": [
        "### Explicação do Código\n",
        "**Importações Necessárias:**\n",
        "- torch.nn: Módulo de PyTorch contendo classes para definir camadas de redes neurais.\n",
        "- torch.nn.functional: Módulo contendo funções úteis como funções de ativação e operações sobre tensores.\n",
        "- __init__: Método inicializador da classe.\n",
        "- super(Modelo, self).__init__(): Chama o inicializador da classe base nn.Module.\n",
        "- self.linear1 = nn.Linear(28*28, 128): Define uma camada totalmente conectada com 784 entradas (28x28 pixels de uma imagem) e 128 saídas.\n",
        "- self.linear2 = nn.Linear(128, 64): Define uma camada totalmente conectada com 128 entradas e 64 saídas.\n",
        "- self.linear3 = nn.Linear(64, 10): Define uma camada totalmente conectada com 64 entradas e 10 saídas.\n",
        "- forward: Método que define o fluxo de dados através da rede.\n",
        "- x = F.relu(self.linear1(x)): Aplica a camada linear1 seguida pela função de ativação ReLU.\n",
        "- x = F.relu(self.linear2(x)): Aplica a camada linear2 seguida pela função de ativação ReLU.\n",
        "- x = self.linear3(x): Aplica a camada linear3 (camada de saída).\n",
        "return F.log_softmax(x, dim=1): Aplica a função de ativação log softmax à saída para obter probabilidades logarítmicas, útil para cálculo de perda em problemas de classificação."
      ],
      "metadata": {
        "id": "2U49KwQNwR8K"
      }
    },
    {
      "cell_type": "code",
      "source": [
        "import torch.nn as nn\n",
        "import torch.nn.functional as F\n",
        "\n",
        "class Modelo(nn.Module):\n",
        "    def __init__(self):\n",
        "        super(Modelo, self).__init__()\n",
        "        self.linear1 = nn.Linear(28*28, 128)  # camada de entrada, 784 neurônios que se ligam a 128\n",
        "        self.linear2 = nn.Linear(128, 64)  # camada interna 1, 128 neurônios que se ligam a 64\n",
        "        self.linear3 = nn.Linear(64, 10)  # camada interna 2, 64 neurônios que se ligam a 10\n",
        "        # para a camada de saída não é necessário definir nada pois só precisamos pegar o output da camada interna 2\n",
        "\n",
        "    def forward(self, x):\n",
        "        x = F.relu(self.linear1(x))  # função de ativação da camada de entrada para a camada interna 1\n",
        "        x = F.relu(self.linear2(x))  # função de ativação da camada interna 1 para a camada interna 2\n",
        "        x = self.linear3(x)  # função de ativação da camada interna 2 para a camada de saída, nesse caso f(x) = x\n",
        "        return F.log_softmax(x, dim=1)  # dados utilizados para calcular a perda\n"
      ],
      "metadata": {
        "id": "wdpJXpimzn9w"
      },
      "execution_count": 26,
      "outputs": []
    },
    {
      "cell_type": "markdown",
      "source": [
        "Este código treina uma rede neural em um conjunto de dados usando o método de descida do gradiente estocástico com retropropagação para minimizar a perda, ajustando os pesos da rede ao longo de várias épocas."
      ],
      "metadata": {
        "id": "dCEIlk8yDUlc"
      }
    },
    {
      "cell_type": "code",
      "source": [
        "import torch.optim as optim\n",
        "import torch.nn as nn\n",
        "\n",
        "def treino(modelo, trainloader, device):\n",
        "    otimizador = optim.SGD(modelo.parameters(), lr=0.01, momentum=0.5)  # define a política de atualização dos pesos e da bias\n",
        "    inicio = time()  # timer para sabermos quanto tempo levou o treino\n",
        "\n",
        "    criterio = nn.NLLLoss()  # definindo o critério para calcular a perda\n",
        "    EPOCHS = 10  # número de epochs que o algoritmo rodará\n",
        "    modelo.train()  # ativando o modo de treinamento do modelo\n",
        "\n",
        "    for epoch in range(EPOCHS):\n",
        "        perda_acumulada = 0  # inicialização da perda acumulada da epoch em questão\n",
        "\n",
        "        for imagens, etiquetas in trainloader:\n",
        "            imagens = imagens.view(imagens.shape[0], -1)  # convertendo as imagens para \"vetores\" de 28*28 casas para ficarem compatíveis com a entrada da rede\n",
        "            otimizador.zero_grad()  # zerando os gradientes por conta do ciclo anterior\n",
        "\n",
        "            output = modelo(imagens.to(device))  # colocando os dados no modelo\n",
        "            perda_instantanea = criterio(output, etiquetas.to(device))  # calculando a perda da epoch em questão\n",
        "\n",
        "            perda_instantanea.backward()  # backpropagation a partir da perda\n",
        "            otimizador.step()  # atualizando os pesos e as bias\n",
        "\n",
        "            perda_acumulada += perda_instantanea.item()  # atualização da perda acumulada\n"
      ],
      "metadata": {
        "id": "R7a4xX091HGh"
      },
      "execution_count": 27,
      "outputs": []
    },
    {
      "cell_type": "markdown",
      "source": [
        "Este código define uma função de validação para um modelo de classificação de imagens em PyTorch. Ele avalia a precisão do modelo em um conjunto de dados de validação, comparando as previsões do modelo com as etiquetas corretas e imprimindo a precisão final."
      ],
      "metadata": {
        "id": "wUkCEgEBDVp6"
      }
    },
    {
      "cell_type": "code",
      "source": [
        "def validação(modelo, valloader, device):\n",
        "    conta_corretas, conta_todas = 0, 0\n",
        "    for imagens, etiquetas in valloader:\n",
        "        for i in range(len(etiquetas)):\n",
        "            img = imagens[i].view(1, 784)\n",
        "\n",
        "            # Desativar o autograd para acelerar a validação. Grafos computacionais dinâmicos têm um custo alto de processamento\n",
        "            with torch.no_grad():\n",
        "                logps = modelo(img.to(device))  # Output do modelo em escala logarítmica\n",
        "\n",
        "            ps = torch.exp(logps)  # Converte output para escala normal (lembrando que é um tensor)\n",
        "            probab = list(ps.cpu().numpy()[0])\n",
        "            etiqueta_pred = probab.index(max(probab))  # Converte o tensor em um número, no caso, o número que o modelo previu como correto\n",
        "            etiqueta_certa = etiquetas.numpy()[i]\n",
        "            if (etiqueta_certa == etiqueta_pred):  # Compara a previsão com o valor correto\n",
        "                conta_corretas += 1\n",
        "            conta_todas += 1\n",
        "\n",
        "    print(\"Total de imagens testadas =\", conta_todas)\n",
        "    print(\"\\nPrecisão do modelo = {:.2f}%\".format(conta_corretas * 100 / conta_todas))\n"
      ],
      "metadata": {
        "id": "BxfXKUvX1Y5L"
      },
      "execution_count": 29,
      "outputs": []
    },
    {
      "cell_type": "markdown",
      "source": [
        "Este trecho de código é essencial para configurar o ambiente de execução do modelo em PyTorch, garantindo que ele utilize a GPU se disponível, ou a CPU caso contrário. Isso é crucial para acelerar o treinamento e a inferência em redes neurais, já que as GPUs são otimizadas para operações de processamento paralelo, comuns em deep learning."
      ],
      "metadata": {
        "id": "ToGZ-DDjDZjG"
      }
    },
    {
      "cell_type": "code",
      "source": [
        "modelo = Modelo()\n",
        "device = torch.device(\"cuda\" if torch.cuda.is_available() else \"cpu\")\n",
        "modelo.to(device)\n"
      ],
      "metadata": {
        "colab": {
          "base_uri": "https://localhost:8080/"
        },
        "id": "qYUTgEWX2Ni4",
        "outputId": "cf3069b7-ae03-471c-949e-e1c131011de0"
      },
      "execution_count": 30,
      "outputs": [
        {
          "output_type": "execute_result",
          "data": {
            "text/plain": [
              "Modelo(\n",
              "  (linear1): Linear(in_features=784, out_features=128, bias=True)\n",
              "  (linear2): Linear(in_features=128, out_features=64, bias=True)\n",
              "  (linear3): Linear(in_features=64, out_features=10, bias=True)\n",
              ")"
            ]
          },
          "metadata": {},
          "execution_count": 30
        }
      ]
    }
  ]
}